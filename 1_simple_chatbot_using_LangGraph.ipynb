{
  "nbformat": 4,
  "nbformat_minor": 0,
  "metadata": {
    "colab": {
      "provenance": [],
      "machine_shape": "hm",
      "gpuType": "T4",
      "include_colab_link": true
    },
    "kernelspec": {
      "name": "python3",
      "display_name": "Python 3"
    },
    "language_info": {
      "name": "python"
    },
    "accelerator": "GPU"
  },
  "cells": [
    {
      "cell_type": "markdown",
      "metadata": {
        "id": "view-in-github",
        "colab_type": "text"
      },
      "source": [
        "<a href=\"https://colab.research.google.com/github/KhushbooNijhawan/Agent-AI/blob/main/1_simple_chatbot_using_LangGraph.ipynb\" target=\"_parent\"><img src=\"https://colab.research.google.com/assets/colab-badge.svg\" alt=\"Open In Colab\"/></a>"
      ]
    },
    {
      "cell_type": "markdown",
      "source": [
        "## Chatbots With Langgraph"
      ],
      "metadata": {
        "id": "qsFqqI3E8Xn4"
      }
    },
    {
      "cell_type": "code",
      "source": [
        "!pip install langgraph langsmith"
      ],
      "metadata": {
        "colab": {
          "base_uri": "https://localhost:8080/"
        },
        "id": "aDGN7B1e8cX_",
        "outputId": "cf0c65d5-035a-455c-8102-b577f6e848c2"
      },
      "execution_count": 24,
      "outputs": [
        {
          "output_type": "stream",
          "name": "stdout",
          "text": [
            "Requirement already satisfied: langgraph in /usr/local/lib/python3.11/dist-packages (0.3.29)\n",
            "Requirement already satisfied: langsmith in /usr/local/lib/python3.11/dist-packages (0.3.24)\n",
            "Requirement already satisfied: langchain-core<0.4,>=0.1 in /usr/local/lib/python3.11/dist-packages (from langgraph) (0.3.51)\n",
            "Requirement already satisfied: langgraph-checkpoint<3.0.0,>=2.0.10 in /usr/local/lib/python3.11/dist-packages (from langgraph) (2.0.24)\n",
            "Requirement already satisfied: langgraph-prebuilt<0.2,>=0.1.1 in /usr/local/lib/python3.11/dist-packages (from langgraph) (0.1.8)\n",
            "Requirement already satisfied: langgraph-sdk<0.2.0,>=0.1.42 in /usr/local/lib/python3.11/dist-packages (from langgraph) (0.1.61)\n",
            "Requirement already satisfied: xxhash<4.0.0,>=3.5.0 in /usr/local/lib/python3.11/dist-packages (from langgraph) (3.5.0)\n",
            "Requirement already satisfied: httpx<1,>=0.23.0 in /usr/local/lib/python3.11/dist-packages (from langsmith) (0.28.1)\n",
            "Requirement already satisfied: orjson<4.0.0,>=3.9.14 in /usr/local/lib/python3.11/dist-packages (from langsmith) (3.10.16)\n",
            "Requirement already satisfied: packaging>=23.2 in /usr/local/lib/python3.11/dist-packages (from langsmith) (24.2)\n",
            "Requirement already satisfied: pydantic<3,>=1 in /usr/local/lib/python3.11/dist-packages (from langsmith) (2.11.2)\n",
            "Requirement already satisfied: requests<3,>=2 in /usr/local/lib/python3.11/dist-packages (from langsmith) (2.32.3)\n",
            "Requirement already satisfied: requests-toolbelt<2.0.0,>=1.0.0 in /usr/local/lib/python3.11/dist-packages (from langsmith) (1.0.0)\n",
            "Requirement already satisfied: zstandard<0.24.0,>=0.23.0 in /usr/local/lib/python3.11/dist-packages (from langsmith) (0.23.0)\n",
            "Requirement already satisfied: anyio in /usr/local/lib/python3.11/dist-packages (from httpx<1,>=0.23.0->langsmith) (4.9.0)\n",
            "Requirement already satisfied: certifi in /usr/local/lib/python3.11/dist-packages (from httpx<1,>=0.23.0->langsmith) (2025.1.31)\n",
            "Requirement already satisfied: httpcore==1.* in /usr/local/lib/python3.11/dist-packages (from httpx<1,>=0.23.0->langsmith) (1.0.7)\n",
            "Requirement already satisfied: idna in /usr/local/lib/python3.11/dist-packages (from httpx<1,>=0.23.0->langsmith) (3.10)\n",
            "Requirement already satisfied: h11<0.15,>=0.13 in /usr/local/lib/python3.11/dist-packages (from httpcore==1.*->httpx<1,>=0.23.0->langsmith) (0.14.0)\n",
            "Requirement already satisfied: tenacity!=8.4.0,<10.0.0,>=8.1.0 in /usr/local/lib/python3.11/dist-packages (from langchain-core<0.4,>=0.1->langgraph) (9.1.2)\n",
            "Requirement already satisfied: jsonpatch<2.0,>=1.33 in /usr/local/lib/python3.11/dist-packages (from langchain-core<0.4,>=0.1->langgraph) (1.33)\n",
            "Requirement already satisfied: PyYAML>=5.3 in /usr/local/lib/python3.11/dist-packages (from langchain-core<0.4,>=0.1->langgraph) (6.0.2)\n",
            "Requirement already satisfied: typing-extensions>=4.7 in /usr/local/lib/python3.11/dist-packages (from langchain-core<0.4,>=0.1->langgraph) (4.13.1)\n",
            "Requirement already satisfied: ormsgpack<2.0.0,>=1.8.0 in /usr/local/lib/python3.11/dist-packages (from langgraph-checkpoint<3.0.0,>=2.0.10->langgraph) (1.9.1)\n",
            "Requirement already satisfied: annotated-types>=0.6.0 in /usr/local/lib/python3.11/dist-packages (from pydantic<3,>=1->langsmith) (0.7.0)\n",
            "Requirement already satisfied: pydantic-core==2.33.1 in /usr/local/lib/python3.11/dist-packages (from pydantic<3,>=1->langsmith) (2.33.1)\n",
            "Requirement already satisfied: typing-inspection>=0.4.0 in /usr/local/lib/python3.11/dist-packages (from pydantic<3,>=1->langsmith) (0.4.0)\n",
            "Requirement already satisfied: charset-normalizer<4,>=2 in /usr/local/lib/python3.11/dist-packages (from requests<3,>=2->langsmith) (3.4.1)\n",
            "Requirement already satisfied: urllib3<3,>=1.21.1 in /usr/local/lib/python3.11/dist-packages (from requests<3,>=2->langsmith) (2.3.0)\n",
            "Requirement already satisfied: jsonpointer>=1.9 in /usr/local/lib/python3.11/dist-packages (from jsonpatch<2.0,>=1.33->langchain-core<0.4,>=0.1->langgraph) (3.0.0)\n",
            "Requirement already satisfied: sniffio>=1.1 in /usr/local/lib/python3.11/dist-packages (from anyio->httpx<1,>=0.23.0->langsmith) (1.3.1)\n"
          ]
        }
      ]
    },
    {
      "cell_type": "code",
      "source": [
        "!pip install langchain langchain_groq langchain_community"
      ],
      "metadata": {
        "colab": {
          "base_uri": "https://localhost:8080/"
        },
        "id": "uOSj_MR1AHBs",
        "outputId": "b95d0841-cc67-411b-e84c-b605fff17ab2"
      },
      "execution_count": 25,
      "outputs": [
        {
          "output_type": "stream",
          "name": "stdout",
          "text": [
            "Requirement already satisfied: langchain in /usr/local/lib/python3.11/dist-packages (0.3.23)\n",
            "Requirement already satisfied: langchain_groq in /usr/local/lib/python3.11/dist-packages (0.3.2)\n",
            "Requirement already satisfied: langchain_community in /usr/local/lib/python3.11/dist-packages (0.3.21)\n",
            "Requirement already satisfied: langchain-core<1.0.0,>=0.3.51 in /usr/local/lib/python3.11/dist-packages (from langchain) (0.3.51)\n",
            "Requirement already satisfied: langchain-text-splitters<1.0.0,>=0.3.8 in /usr/local/lib/python3.11/dist-packages (from langchain) (0.3.8)\n",
            "Requirement already satisfied: langsmith<0.4,>=0.1.17 in /usr/local/lib/python3.11/dist-packages (from langchain) (0.3.24)\n",
            "Requirement already satisfied: pydantic<3.0.0,>=2.7.4 in /usr/local/lib/python3.11/dist-packages (from langchain) (2.11.2)\n",
            "Requirement already satisfied: SQLAlchemy<3,>=1.4 in /usr/local/lib/python3.11/dist-packages (from langchain) (2.0.40)\n",
            "Requirement already satisfied: requests<3,>=2 in /usr/local/lib/python3.11/dist-packages (from langchain) (2.32.3)\n",
            "Requirement already satisfied: PyYAML>=5.3 in /usr/local/lib/python3.11/dist-packages (from langchain) (6.0.2)\n",
            "Requirement already satisfied: groq<1,>=0.4.1 in /usr/local/lib/python3.11/dist-packages (from langchain_groq) (0.22.0)\n",
            "Requirement already satisfied: aiohttp<4.0.0,>=3.8.3 in /usr/local/lib/python3.11/dist-packages (from langchain_community) (3.11.15)\n",
            "Requirement already satisfied: tenacity!=8.4.0,<10,>=8.1.0 in /usr/local/lib/python3.11/dist-packages (from langchain_community) (9.1.2)\n",
            "Requirement already satisfied: dataclasses-json<0.7,>=0.5.7 in /usr/local/lib/python3.11/dist-packages (from langchain_community) (0.6.7)\n",
            "Requirement already satisfied: pydantic-settings<3.0.0,>=2.4.0 in /usr/local/lib/python3.11/dist-packages (from langchain_community) (2.8.1)\n",
            "Requirement already satisfied: httpx-sse<1.0.0,>=0.4.0 in /usr/local/lib/python3.11/dist-packages (from langchain_community) (0.4.0)\n",
            "Requirement already satisfied: numpy<3,>=1.26.2 in /usr/local/lib/python3.11/dist-packages (from langchain_community) (2.0.2)\n",
            "Requirement already satisfied: aiohappyeyeballs>=2.3.0 in /usr/local/lib/python3.11/dist-packages (from aiohttp<4.0.0,>=3.8.3->langchain_community) (2.6.1)\n",
            "Requirement already satisfied: aiosignal>=1.1.2 in /usr/local/lib/python3.11/dist-packages (from aiohttp<4.0.0,>=3.8.3->langchain_community) (1.3.2)\n",
            "Requirement already satisfied: attrs>=17.3.0 in /usr/local/lib/python3.11/dist-packages (from aiohttp<4.0.0,>=3.8.3->langchain_community) (25.3.0)\n",
            "Requirement already satisfied: frozenlist>=1.1.1 in /usr/local/lib/python3.11/dist-packages (from aiohttp<4.0.0,>=3.8.3->langchain_community) (1.5.0)\n",
            "Requirement already satisfied: multidict<7.0,>=4.5 in /usr/local/lib/python3.11/dist-packages (from aiohttp<4.0.0,>=3.8.3->langchain_community) (6.3.2)\n",
            "Requirement already satisfied: propcache>=0.2.0 in /usr/local/lib/python3.11/dist-packages (from aiohttp<4.0.0,>=3.8.3->langchain_community) (0.3.1)\n",
            "Requirement already satisfied: yarl<2.0,>=1.17.0 in /usr/local/lib/python3.11/dist-packages (from aiohttp<4.0.0,>=3.8.3->langchain_community) (1.18.3)\n",
            "Requirement already satisfied: marshmallow<4.0.0,>=3.18.0 in /usr/local/lib/python3.11/dist-packages (from dataclasses-json<0.7,>=0.5.7->langchain_community) (3.26.1)\n",
            "Requirement already satisfied: typing-inspect<1,>=0.4.0 in /usr/local/lib/python3.11/dist-packages (from dataclasses-json<0.7,>=0.5.7->langchain_community) (0.9.0)\n",
            "Requirement already satisfied: anyio<5,>=3.5.0 in /usr/local/lib/python3.11/dist-packages (from groq<1,>=0.4.1->langchain_groq) (4.9.0)\n",
            "Requirement already satisfied: distro<2,>=1.7.0 in /usr/local/lib/python3.11/dist-packages (from groq<1,>=0.4.1->langchain_groq) (1.9.0)\n",
            "Requirement already satisfied: httpx<1,>=0.23.0 in /usr/local/lib/python3.11/dist-packages (from groq<1,>=0.4.1->langchain_groq) (0.28.1)\n",
            "Requirement already satisfied: sniffio in /usr/local/lib/python3.11/dist-packages (from groq<1,>=0.4.1->langchain_groq) (1.3.1)\n",
            "Requirement already satisfied: typing-extensions<5,>=4.10 in /usr/local/lib/python3.11/dist-packages (from groq<1,>=0.4.1->langchain_groq) (4.13.1)\n",
            "Requirement already satisfied: jsonpatch<2.0,>=1.33 in /usr/local/lib/python3.11/dist-packages (from langchain-core<1.0.0,>=0.3.51->langchain) (1.33)\n",
            "Requirement already satisfied: packaging<25,>=23.2 in /usr/local/lib/python3.11/dist-packages (from langchain-core<1.0.0,>=0.3.51->langchain) (24.2)\n",
            "Requirement already satisfied: orjson<4.0.0,>=3.9.14 in /usr/local/lib/python3.11/dist-packages (from langsmith<0.4,>=0.1.17->langchain) (3.10.16)\n",
            "Requirement already satisfied: requests-toolbelt<2.0.0,>=1.0.0 in /usr/local/lib/python3.11/dist-packages (from langsmith<0.4,>=0.1.17->langchain) (1.0.0)\n",
            "Requirement already satisfied: zstandard<0.24.0,>=0.23.0 in /usr/local/lib/python3.11/dist-packages (from langsmith<0.4,>=0.1.17->langchain) (0.23.0)\n",
            "Requirement already satisfied: annotated-types>=0.6.0 in /usr/local/lib/python3.11/dist-packages (from pydantic<3.0.0,>=2.7.4->langchain) (0.7.0)\n",
            "Requirement already satisfied: pydantic-core==2.33.1 in /usr/local/lib/python3.11/dist-packages (from pydantic<3.0.0,>=2.7.4->langchain) (2.33.1)\n",
            "Requirement already satisfied: typing-inspection>=0.4.0 in /usr/local/lib/python3.11/dist-packages (from pydantic<3.0.0,>=2.7.4->langchain) (0.4.0)\n",
            "Requirement already satisfied: python-dotenv>=0.21.0 in /usr/local/lib/python3.11/dist-packages (from pydantic-settings<3.0.0,>=2.4.0->langchain_community) (1.1.0)\n",
            "Requirement already satisfied: charset-normalizer<4,>=2 in /usr/local/lib/python3.11/dist-packages (from requests<3,>=2->langchain) (3.4.1)\n",
            "Requirement already satisfied: idna<4,>=2.5 in /usr/local/lib/python3.11/dist-packages (from requests<3,>=2->langchain) (3.10)\n",
            "Requirement already satisfied: urllib3<3,>=1.21.1 in /usr/local/lib/python3.11/dist-packages (from requests<3,>=2->langchain) (2.3.0)\n",
            "Requirement already satisfied: certifi>=2017.4.17 in /usr/local/lib/python3.11/dist-packages (from requests<3,>=2->langchain) (2025.1.31)\n",
            "Requirement already satisfied: greenlet>=1 in /usr/local/lib/python3.11/dist-packages (from SQLAlchemy<3,>=1.4->langchain) (3.1.1)\n",
            "Requirement already satisfied: httpcore==1.* in /usr/local/lib/python3.11/dist-packages (from httpx<1,>=0.23.0->groq<1,>=0.4.1->langchain_groq) (1.0.7)\n",
            "Requirement already satisfied: h11<0.15,>=0.13 in /usr/local/lib/python3.11/dist-packages (from httpcore==1.*->httpx<1,>=0.23.0->groq<1,>=0.4.1->langchain_groq) (0.14.0)\n",
            "Requirement already satisfied: jsonpointer>=1.9 in /usr/local/lib/python3.11/dist-packages (from jsonpatch<2.0,>=1.33->langchain-core<1.0.0,>=0.3.51->langchain) (3.0.0)\n",
            "Requirement already satisfied: mypy-extensions>=0.3.0 in /usr/local/lib/python3.11/dist-packages (from typing-inspect<1,>=0.4.0->dataclasses-json<0.7,>=0.5.7->langchain_community) (1.0.0)\n"
          ]
        }
      ]
    },
    {
      "cell_type": "code",
      "source": [
        "from google.colab import userdata\n",
        "groq_api_key=userdata.get('groq_api_key')\n",
        "langsmith=userdata.get('LANGSMITH_API_KEY')\n",
        "print(langsmith)\n",
        "\n",
        "#using the api keys to access groq multiple LLM models and LangSmith\n",
        "#langSmith is to track everything going on in bot\n"
      ],
      "metadata": {
        "colab": {
          "base_uri": "https://localhost:8080/"
        },
        "id": "TgKIrwXJAjgA",
        "outputId": "db92cfb2-04a2-4734-f1be-d6d634f7c143"
      },
      "execution_count": 26,
      "outputs": [
        {
          "output_type": "stream",
          "name": "stdout",
          "text": [
            "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\n"
          ]
        }
      ]
    },
    {
      "cell_type": "code",
      "source": [
        "import os\n",
        "os.environ[\"LANGCHAIN_API_KEY\"] = langsmith\n",
        "os.environ[\"LANGCHAIN_TRACING_V2\"]=\"true\"\n",
        "#tracking kept true\n",
        "os.environ[\"LANGCHAIN_PROJECT\"]=\"CourseLanggraph\"\n",
        "#setup LangChain project"
      ],
      "metadata": {
        "id": "YFpKBPoZBQAa"
      },
      "execution_count": 27,
      "outputs": []
    },
    {
      "cell_type": "code",
      "source": [
        "from langchain_groq import ChatGroq\n",
        "#we need to use ChatGroq Opensource Models"
      ],
      "metadata": {
        "id": "XJZl9uX-CFo7"
      },
      "execution_count": 28,
      "outputs": []
    },
    {
      "cell_type": "code",
      "source": [
        "llm=ChatGroq(groq_api_key=groq_api_key,model_name=\"Gemma2-9b-It\")\n",
        "llm\n",
        "#can use any model_name present in Groq bot"
      ],
      "metadata": {
        "colab": {
          "base_uri": "https://localhost:8080/"
        },
        "id": "j9vOWf8yCJ4W",
        "outputId": "6a9a701f-5002-43c4-f6ad-c8e26ab30ab8"
      },
      "execution_count": 29,
      "outputs": [
        {
          "output_type": "execute_result",
          "data": {
            "text/plain": [
              "ChatGroq(client=<groq.resources.chat.completions.Completions object at 0x79f0d130f090>, async_client=<groq.resources.chat.completions.AsyncCompletions object at 0x79f0d14b0610>, model_name='Gemma2-9b-It', model_kwargs={}, groq_api_key=SecretStr('**********'))"
            ]
          },
          "metadata": {},
          "execution_count": 29
        }
      ]
    },
    {
      "cell_type": "markdown",
      "source": [
        "## Start Building Chatbot Using Langgraph"
      ],
      "metadata": {
        "id": "RDc7RviFCVKB"
      }
    },
    {
      "cell_type": "code",
      "source": [
        "from typing import Annotated\n",
        "from typing_extensions import TypedDict\n",
        "#stateGraph helps to keep track of state mgmt\n",
        "from langgraph.graph import StateGraph,START,END\n",
        "#StateGraph keeps on changing based on some parameters so adding messages\n",
        "from langgraph.graph.message import add_messages\n",
        "#when user is giving query llm model is giving response,\n",
        "#the msg will getting added in langgraph.graph.message  and state in stategraph will change"
      ],
      "metadata": {
        "id": "bPcSBey6CUeF"
      },
      "execution_count": 30,
      "outputs": []
    },
    {
      "cell_type": "code",
      "source": [
        "class State(TypedDict):\n",
        "  #This class State is inheriting TypeDict from above\n",
        "  # Messagesvariable have the type \"list\". The `add_messages` function\n",
        "    # in the annotation defines how this state key should be updated\n",
        "    # (in this case, it appends messages to the list, rather than overwriting them)\n",
        "  messages:Annotated[list,add_messages]\n",
        "\n",
        "graph_builder=StateGraph(State)\n",
        "#on every add in messages the State will change\n",
        "#Starting will build the graph and based on the class State keeps track of msgs\n"
      ],
      "metadata": {
        "id": "dVzn-8rrC6-7"
      },
      "execution_count": 31,
      "outputs": []
    },
    {
      "cell_type": "code",
      "source": [
        "graph_builder"
      ],
      "metadata": {
        "colab": {
          "base_uri": "https://localhost:8080/"
        },
        "id": "vgjwX6BQDcfk",
        "outputId": "012dd028-5a7a-48af-9007-25fdc770073d"
      },
      "execution_count": 32,
      "outputs": [
        {
          "output_type": "execute_result",
          "data": {
            "text/plain": [
              "<langgraph.graph.state.StateGraph at 0x79f0d14bbf90>"
            ]
          },
          "metadata": {},
          "execution_count": 32
        }
      ]
    },
    {
      "cell_type": "code",
      "source": [
        "def chatbot(state:State):\n",
        "  return {\"messages\":llm.invoke(state['messages'])}\n",
        "  #this chatbot is inheriting State Class\n",
        "#whenever we create a node, it needs to take the parameter 'State'\n",
        "#based on these State messages the state mgmt will keep on changing\n",
        "#every mesage we get as input stored in state['messages'] and response stored in\n",
        "#\"messages\":"
      ],
      "metadata": {
        "id": "oOF74t5GDeJO"
      },
      "execution_count": 33,
      "outputs": []
    },
    {
      "cell_type": "code",
      "source": [
        "graph_builder.add_node(\"chatbot\",chatbot)\n",
        "#the chatbot needs to be added to the graph builder\n",
        "# \"chatbot\" is the node name"
      ],
      "metadata": {
        "id": "-m7NDe74EPGW",
        "colab": {
          "base_uri": "https://localhost:8080/"
        },
        "outputId": "d2f2e1fa-174a-496b-a8d0-242460d0d5d3"
      },
      "execution_count": 34,
      "outputs": [
        {
          "output_type": "execute_result",
          "data": {
            "text/plain": [
              "<langgraph.graph.state.StateGraph at 0x79f0d14bbf90>"
            ]
          },
          "metadata": {},
          "execution_count": 34
        }
      ]
    },
    {
      "cell_type": "code",
      "source": [
        "graph_builder"
      ],
      "metadata": {
        "colab": {
          "base_uri": "https://localhost:8080/"
        },
        "id": "pKFbmbqcEVIq",
        "outputId": "f60406e3-125f-4401-987f-4c20c8fdbd99"
      },
      "execution_count": 35,
      "outputs": [
        {
          "output_type": "execute_result",
          "data": {
            "text/plain": [
              "<langgraph.graph.state.StateGraph at 0x79f0d14bbf90>"
            ]
          },
          "metadata": {},
          "execution_count": 35
        }
      ]
    },
    {
      "cell_type": "code",
      "source": [
        "graph_builder.add_edge(START,\"chatbot\")\n",
        "graph_builder.add_edge(\"chatbot\",END)\n",
        "#connect chatbot to start and end node\n",
        "#state change is happening due to the State class we ad inherited"
      ],
      "metadata": {
        "id": "3jBWX44IEWy-",
        "colab": {
          "base_uri": "https://localhost:8080/"
        },
        "outputId": "44679f3e-0663-44ab-b30a-8b549b4d89de"
      },
      "execution_count": 36,
      "outputs": [
        {
          "output_type": "execute_result",
          "data": {
            "text/plain": [
              "<langgraph.graph.state.StateGraph at 0x79f0d14bbf90>"
            ]
          },
          "metadata": {},
          "execution_count": 36
        }
      ]
    },
    {
      "cell_type": "code",
      "source": [
        "graph=graph_builder.compile()\n",
        "#graph is ready"
      ],
      "metadata": {
        "id": "PN4O63shEtyZ"
      },
      "execution_count": 37,
      "outputs": []
    },
    {
      "cell_type": "code",
      "source": [
        "#displaying graph\n",
        "from IPython.display import Image, display\n",
        "try:\n",
        "  display(Image(graph.get_graph().draw_mermaid_png()))\n",
        "except Exception:\n",
        "  pass"
      ],
      "metadata": {
        "colab": {
          "base_uri": "https://localhost:8080/",
          "height": 251
        },
        "id": "_PPER3gfEygm",
        "outputId": "483a034a-485e-485b-e7f2-6c2ceed23999"
      },
      "execution_count": 38,
      "outputs": [
        {
          "output_type": "display_data",
          "data": {
            "image/png": "[encoded data removed]",
            "text/plain": [
              "<IPython.core.display.Image object>"
            ]
          },
          "metadata": {}
        }
      ]
    },
    {
      "cell_type": "markdown",
      "source": [
        "Start , At chatbot node the interaction happens based on responses the state changes and it ends"
      ],
      "metadata": {
        "id": "YP-61SSRrxKd"
      }
    },
    {
      "cell_type": "code",
      "source": [
        "while True:\n",
        "  user_input=input(\"User: \")\n",
        "  if user_input.lower() in [\"quit\",\"q\"]:\n",
        "    print(\"Good Bye\")\n",
        "    break\n",
        "#letting user give input, if user input is q or quit it will break and\n",
        "#go to graph.stream and give all the msgs till now\n",
        "#the event.value will have user msg - value['messages'] and llm msg -\"Assistant:\",value[\"messages\"].content\n",
        "  for event in graph.stream({'messages':(\"user\",user_input)}):\n",
        "    #giving 'user' as input\n",
        "    print(event.values())\n",
        "    for value in event.values():\n",
        "      print(value['messages'])\n",
        "      print(\"Assistant:\",value[\"messages\"].content)\n",
        "      #Assistant is the llm"
      ],
      "metadata": {
        "colab": {
          "base_uri": "https://localhost:8080/"
        },
        "id": "aDvjUFmxFCwU",
        "outputId": "62c15d68-a12a-4cd6-a63f-c6f8a817b377"
      },
      "execution_count": 39,
      "outputs": [
        {
          "output_type": "stream",
          "name": "stdout",
          "text": [
            "User: hi\n",
            "dict_values([{'messages': AIMessage(content='Hi there! 👋  What can I do for you today? 😊\\n', additional_kwargs={}, response_metadata={'token_usage': {'completion_tokens': 17, 'prompt_tokens': 11, 'total_tokens': 28, 'completion_time': 0.030909091, 'prompt_time': 0.001904477, 'queue_time': 0.014936651, 'total_time': 0.032813568}, 'model_name': 'Gemma2-9b-It', 'system_fingerprint': 'fp_10c08bf97d', 'finish_reason': 'stop', 'logprobs': None}, id='run-aa28d0c9-e6fb-4abd-9108-9d423328dff5-0', usage_metadata={'input_tokens': 11, 'output_tokens': 17, 'total_tokens': 28})}])\n",
            "content='Hi there! 👋  What can I do for you today? 😊\\n' additional_kwargs={} response_metadata={'token_usage': {'completion_tokens': 17, 'prompt_tokens': 11, 'total_tokens': 28, 'completion_time': 0.030909091, 'prompt_time': 0.001904477, 'queue_time': 0.014936651, 'total_time': 0.032813568}, 'model_name': 'Gemma2-9b-It', 'system_fingerprint': 'fp_10c08bf97d', 'finish_reason': 'stop', 'logprobs': None} id='run-aa28d0c9-e6fb-4abd-9108-9d423328dff5-0' usage_metadata={'input_tokens': 11, 'output_tokens': 17, 'total_tokens': 28}\n",
            "Assistant: Hi there! 👋  What can I do for you today? 😊\n",
            "\n",
            "User: what is agent ai\n",
            "dict_values([{'messages': AIMessage(content='Agent AI refers to a type of artificial intelligence that focuses on creating autonomous entities capable of interacting with and influencing their environment. \\n\\nThink of it like this:\\n\\n* **Traditional AI:** Often works within defined parameters, processing information and generating outputs based on pre-programmed rules or learned patterns.\\n\\n* **Agent AI:** Goes a step further by giving AI the ability to:\\n\\n    * **Perceive:** Gather information about its surroundings through sensors (e.g., cameras, microphones, data feeds).\\n    * **Reason:** Analyze the perceived information and make decisions based on its goals.\\n    * **Act:** Take actions in the environment to achieve its goals (e.g., moving, manipulating objects, sending messages).\\n    * **Learn:**  Adapt its behavior over time based on the consequences of its actions and new information.\\n\\n**Key Characteristics of Agent AI:**\\n\\n* **Autonomy:** Agents operate independently, making decisions and taking actions without direct human intervention.\\n* **Goal-oriented:** Agents have specific objectives they strive to achieve.\\n* **Reactivity:** Agents respond to changes in their environment.\\n* **Proactiveness:** Agents can take initiative and anticipate future events.\\n\\n**Examples of Agent AI:**\\n\\n* **Self-driving cars:** Perceive their surroundings (roads, traffic), reason about safe navigation, and act by steering, accelerating, and braking.\\n* **Chatbots:**  Perceive user input, understand their intent, and generate appropriate responses.\\n* **Virtual assistants:**  Like Siri or Alexa, respond to voice commands, perform tasks, and provide information.\\n* **Robotics:** Industrial robots that can perform tasks like welding, painting, or assembly autonomously.\\n\\n**Benefits of Agent AI:**\\n\\n* **Automation:**  Agents can handle repetitive or complex tasks, freeing up human time and resources.\\n* **Efficiency:**  Agents can often perform tasks faster and more accurately than humans.\\n* **Scalability:**  Agent AI can be easily scaled to handle large numbers of tasks or users.\\n* **Personalization:** Agents can be customized to meet the specific needs of individual users.\\n\\n\\nLet me know if you have any other questions about agent AI!\\n', additional_kwargs={}, response_metadata={'token_usage': {'completion_tokens': 453, 'prompt_tokens': 13, 'total_tokens': 466, 'completion_time': 0.823636364, 'prompt_time': 0.001902786, 'queue_time': 0.015045103, 'total_time': 0.82553915}, 'model_name': 'Gemma2-9b-It', 'system_fingerprint': 'fp_10c08bf97d', 'finish_reason': 'stop', 'logprobs': None}, id='run-1a5b6a0f-7025-4872-99a3-b04bd2d42600-0', usage_metadata={'input_tokens': 13, 'output_tokens': 453, 'total_tokens': 466})}])\n",
            "content='Agent AI refers to a type of artificial intelligence that focuses on creating autonomous entities capable of interacting with and influencing their environment. \\n\\nThink of it like this:\\n\\n* **Traditional AI:** Often works within defined parameters, processing information and generating outputs based on pre-programmed rules or learned patterns.\\n\\n* **Agent AI:** Goes a step further by giving AI the ability to:\\n\\n    * **Perceive:** Gather information about its surroundings through sensors (e.g., cameras, microphones, data feeds).\\n    * **Reason:** Analyze the perceived information and make decisions based on its goals.\\n    * **Act:** Take actions in the environment to achieve its goals (e.g., moving, manipulating objects, sending messages).\\n    * **Learn:**  Adapt its behavior over time based on the consequences of its actions and new information.\\n\\n**Key Characteristics of Agent AI:**\\n\\n* **Autonomy:** Agents operate independently, making decisions and taking actions without direct human intervention.\\n* **Goal-oriented:** Agents have specific objectives they strive to achieve.\\n* **Reactivity:** Agents respond to changes in their environment.\\n* **Proactiveness:** Agents can take initiative and anticipate future events.\\n\\n**Examples of Agent AI:**\\n\\n* **Self-driving cars:** Perceive their surroundings (roads, traffic), reason about safe navigation, and act by steering, accelerating, and braking.\\n* **Chatbots:**  Perceive user input, understand their intent, and generate appropriate responses.\\n* **Virtual assistants:**  Like Siri or Alexa, respond to voice commands, perform tasks, and provide information.\\n* **Robotics:** Industrial robots that can perform tasks like welding, painting, or assembly autonomously.\\n\\n**Benefits of Agent AI:**\\n\\n* **Automation:**  Agents can handle repetitive or complex tasks, freeing up human time and resources.\\n* **Efficiency:**  Agents can often perform tasks faster and more accurately than humans.\\n* **Scalability:**  Agent AI can be easily scaled to handle large numbers of tasks or users.\\n* **Personalization:** Agents can be customized to meet the specific needs of individual users.\\n\\n\\nLet me know if you have any other questions about agent AI!\\n' additional_kwargs={} response_metadata={'token_usage': {'completion_tokens': 453, 'prompt_tokens': 13, 'total_tokens': 466, 'completion_time': 0.823636364, 'prompt_time': 0.001902786, 'queue_time': 0.015045103, 'total_time': 0.82553915}, 'model_name': 'Gemma2-9b-It', 'system_fingerprint': 'fp_10c08bf97d', 'finish_reason': 'stop', 'logprobs': None} id='run-1a5b6a0f-7025-4872-99a3-b04bd2d42600-0' usage_metadata={'input_tokens': 13, 'output_tokens': 453, 'total_tokens': 466}\n",
            "Assistant: Agent AI refers to a type of artificial intelligence that focuses on creating autonomous entities capable of interacting with and influencing their environment. \n",
            "\n",
            "Think of it like this:\n",
            "\n",
            "* **Traditional AI:** Often works within defined parameters, processing information and generating outputs based on pre-programmed rules or learned patterns.\n",
            "\n",
            "* **Agent AI:** Goes a step further by giving AI the ability to:\n",
            "\n",
            "    * **Perceive:** Gather information about its surroundings through sensors (e.g., cameras, microphones, data feeds).\n",
            "    * **Reason:** Analyze the perceived information and make decisions based on its goals.\n",
            "    * **Act:** Take actions in the environment to achieve its goals (e.g., moving, manipulating objects, sending messages).\n",
            "    * **Learn:**  Adapt its behavior over time based on the consequences of its actions and new information.\n",
            "\n",
            "**Key Characteristics of Agent AI:**\n",
            "\n",
            "* **Autonomy:** Agents operate independently, making decisions and taking actions without direct human intervention.\n",
            "* **Goal-oriented:** Agents have specific objectives they strive to achieve.\n",
            "* **Reactivity:** Agents respond to changes in their environment.\n",
            "* **Proactiveness:** Agents can take initiative and anticipate future events.\n",
            "\n",
            "**Examples of Agent AI:**\n",
            "\n",
            "* **Self-driving cars:** Perceive their surroundings (roads, traffic), reason about safe navigation, and act by steering, accelerating, and braking.\n",
            "* **Chatbots:**  Perceive user input, understand their intent, and generate appropriate responses.\n",
            "* **Virtual assistants:**  Like Siri or Alexa, respond to voice commands, perform tasks, and provide information.\n",
            "* **Robotics:** Industrial robots that can perform tasks like welding, painting, or assembly autonomously.\n",
            "\n",
            "**Benefits of Agent AI:**\n",
            "\n",
            "* **Automation:**  Agents can handle repetitive or complex tasks, freeing up human time and resources.\n",
            "* **Efficiency:**  Agents can often perform tasks faster and more accurately than humans.\n",
            "* **Scalability:**  Agent AI can be easily scaled to handle large numbers of tasks or users.\n",
            "* **Personalization:** Agents can be customized to meet the specific needs of individual users.\n",
            "\n",
            "\n",
            "Let me know if you have any other questions about agent AI!\n",
            "\n",
            "User: q\n",
            "Good Bye\n"
          ]
        }
      ]
    },
    {
      "cell_type": "code",
      "source": [],
      "metadata": {
        "id": "---bJTaBsmgE"
      },
      "execution_count": null,
      "outputs": []
    }
  ]
}