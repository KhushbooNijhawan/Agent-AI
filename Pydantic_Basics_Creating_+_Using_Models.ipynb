{
  "nbformat": 4,
  "nbformat_minor": 0,
  "metadata": {
    "colab": {
      "provenance": [],
      "authorship_tag": "ABX9TyNsYSfgrVD9FR/hEyncHoek",
      "include_colab_link": true
    },
    "kernelspec": {
      "name": "python3",
      "display_name": "Python 3"
    },
    "language_info": {
      "name": "python"
    }
  },
  "cells": [
    {
      "cell_type": "markdown",
      "metadata": {
        "id": "view-in-github",
        "colab_type": "text"
      },
      "source": [
        "<a href=\"https://colab.research.google.com/github/KhushbooNijhawan/Agent-AI/blob/main/Pydantic_Basics_Creating_%2B_Using_Models.ipynb\" target=\"_parent\"><img src=\"https://colab.research.google.com/assets/colab-badge.svg\" alt=\"Open In Colab\"/></a>"
      ]
    },
    {
      "cell_type": "code",
      "execution_count": 1,
      "metadata": {
        "colab": {
          "base_uri": "https://localhost:8080/"
        },
        "id": "kDoNY8KpzJKK",
        "outputId": "12a2c021-caba-4c37-e64d-c065faca66f3"
      },
      "outputs": [
        {
          "output_type": "stream",
          "name": "stdout",
          "text": [
            "Requirement already satisfied: pydantic in /usr/local/lib/python3.11/dist-packages (2.11.2)\n",
            "Requirement already satisfied: annotated-types>=0.6.0 in /usr/local/lib/python3.11/dist-packages (from pydantic) (0.7.0)\n",
            "Requirement already satisfied: pydantic-core==2.33.1 in /usr/local/lib/python3.11/dist-packages (from pydantic) (2.33.1)\n",
            "Requirement already satisfied: typing-extensions>=4.12.2 in /usr/local/lib/python3.11/dist-packages (from pydantic) (4.13.1)\n",
            "Requirement already satisfied: typing-inspection>=0.4.0 in /usr/local/lib/python3.11/dist-packages (from pydantic) (0.4.0)\n"
          ]
        }
      ],
      "source": [
        "pip install pydantic"
      ]
    },
    {
      "cell_type": "code",
      "source": [
        "from pydantic import BaseModel\n",
        "#BAse model - base class for creating pydantic models"
      ],
      "metadata": {
        "id": "lqU-8mCl0BlW"
      },
      "execution_count": 11,
      "outputs": []
    },
    {
      "cell_type": "code",
      "source": [
        "class Person(BaseModel):\n",
        "  name:str\n",
        "  age:int\n",
        "  city:str\n",
        "\n"
      ],
      "metadata": {
        "id": "iroWOscz0K01"
      },
      "execution_count": 7,
      "outputs": []
    },
    {
      "cell_type": "code",
      "source": [
        "person=Person(name=\"abc\", age=21,city=\"blr\")\n",
        "print(person)"
      ],
      "metadata": {
        "id": "mK8NbEeA1Z6y"
      },
      "execution_count": null,
      "outputs": []
    },
    {
      "cell_type": "code",
      "source": [
        "type(person)"
      ],
      "metadata": {
        "colab": {
          "base_uri": "https://localhost:8080/",
          "height": 186
        },
        "id": "DgCOvhhV0peA",
        "outputId": "da80399b-a329-42b1-fe99-74a5470d8de6"
      },
      "execution_count": 4,
      "outputs": [
        {
          "output_type": "execute_result",
          "data": {
            "text/plain": [
              "__main__.Person"
            ],
            "text/html": [
              "<div style=\"max-width:800px; border: 1px solid var(--colab-border-color);\"><style>\n",
              "      pre.function-repr-contents {\n",
              "        overflow-x: auto;\n",
              "        padding: 8px 12px;\n",
              "        max-height: 500px;\n",
              "      }\n",
              "\n",
              "      pre.function-repr-contents.function-repr-contents-collapsed {\n",
              "        cursor: pointer;\n",
              "        max-height: 100px;\n",
              "      }\n",
              "    </style>\n",
              "    <pre style=\"white-space: initial; background:\n",
              "         var(--colab-secondary-surface-color); padding: 8px 12px;\n",
              "         border-bottom: 1px solid var(--colab-border-color);\"><b>Person</b><br/>def __init__(self, /, **data: Any) -&gt; None</pre><pre class=\"function-repr-contents function-repr-contents-collapsed\" style=\"\"><a class=\"filepath\" style=\"display:none\" href=\"#\"></a>!!! abstract &quot;Usage Documentation&quot;\n",
              "    [Models](../concepts/models.md)\n",
              "\n",
              "A base class for creating Pydantic models.\n",
              "\n",
              "Attributes:\n",
              "    __class_vars__: The names of the class variables defined on the model.\n",
              "    __private_attributes__: Metadata about the private attributes of the model.\n",
              "    __signature__: The synthesized `__init__` [`Signature`][inspect.Signature] of the model.\n",
              "\n",
              "    __pydantic_complete__: Whether model building is completed, or if there are still undefined fields.\n",
              "    __pydantic_core_schema__: The core schema of the model.\n",
              "    __pydantic_custom_init__: Whether the model has a custom `__init__` function.\n",
              "    __pydantic_decorators__: Metadata containing the decorators defined on the model.\n",
              "        This replaces `Model.__validators__` and `Model.__root_validators__` from Pydantic V1.\n",
              "    __pydantic_generic_metadata__: Metadata for generic models; contains data used for a similar purpose to\n",
              "        __args__, __origin__, __parameters__ in typing-module generics. May eventually be replaced by these.\n",
              "    __pydantic_parent_namespace__: Parent namespace of the model, used for automatic rebuilding of models.\n",
              "    __pydantic_post_init__: The name of the post-init method for the model, if defined.\n",
              "    __pydantic_root_model__: Whether the model is a [`RootModel`][pydantic.root_model.RootModel].\n",
              "    __pydantic_serializer__: The `pydantic-core` `SchemaSerializer` used to dump instances of the model.\n",
              "    __pydantic_validator__: The `pydantic-core` `SchemaValidator` used to validate instances of the model.\n",
              "\n",
              "    __pydantic_fields__: A dictionary of field names and their corresponding [`FieldInfo`][pydantic.fields.FieldInfo] objects.\n",
              "    __pydantic_computed_fields__: A dictionary of computed field names and their corresponding [`ComputedFieldInfo`][pydantic.fields.ComputedFieldInfo] objects.\n",
              "\n",
              "    __pydantic_extra__: A dictionary containing extra values, if [`extra`][pydantic.config.ConfigDict.extra]\n",
              "        is set to `&#x27;allow&#x27;`.\n",
              "    __pydantic_fields_set__: The names of fields explicitly set during instantiation.\n",
              "    __pydantic_private__: Values of private attributes set on the model instance.</pre></div>"
            ]
          },
          "metadata": {},
          "execution_count": 4
        }
      ]
    },
    {
      "cell_type": "code",
      "source": [
        "#when we inherit BaseModel , validation happens so we get error\n",
        "#when int is passed thru city\n",
        "# this would not happen if we use decorators\n",
        "person1=person1(name=\"abc\", age=21,city=037)\n",
        "print(person1)"
      ],
      "metadata": {
        "colab": {
          "base_uri": "https://localhost:8080/",
          "height": 127
        },
        "id": "kgSQCai70r-v",
        "outputId": "edcb337c-e5c0-4e9d-e409-eea9d11ab8eb"
      },
      "execution_count": 8,
      "outputs": [
        {
          "output_type": "error",
          "ename": "SyntaxError",
          "evalue": "leading zeros in decimal integer literals are not permitted; use an 0o prefix for octal integers (<ipython-input-8-c8ebb5023fc3>, line 4)",
          "traceback": [
            "\u001b[0;36m  File \u001b[0;32m\"<ipython-input-8-c8ebb5023fc3>\"\u001b[0;36m, line \u001b[0;32m4\u001b[0m\n\u001b[0;31m    person1=person1(name=\"abc\", age=21,city=037)\u001b[0m\n\u001b[0m                                            ^\u001b[0m\n\u001b[0;31mSyntaxError\u001b[0m\u001b[0;31m:\u001b[0m leading zeros in decimal integer literals are not permitted; use an 0o prefix for octal integers\n"
          ]
        }
      ]
    },
    {
      "cell_type": "markdown",
      "source": [
        "2. Model with Optional fields"
      ],
      "metadata": {
        "id": "v3vi12Jz1wjP"
      }
    },
    {
      "cell_type": "markdown",
      "source": [
        "Add optional fields usin Python's optional type"
      ],
      "metadata": {
        "id": "8AiMTSTJ11hc"
      }
    },
    {
      "cell_type": "code",
      "source": [
        "from typing import Optional\n",
        "class Employee(BaseModel):\n",
        "  id:int\n",
        "  name:str\n",
        "  department:str\n",
        "  salary:Optional[float]=None #Optional with default value as None\n",
        "  is_active:Optional[bool]=True #Optional with default True value"
      ],
      "metadata": {
        "id": "psvBk4mr1wO4"
      },
      "execution_count": 13,
      "outputs": []
    },
    {
      "cell_type": "code",
      "source": [
        "emp1=Employee(id=1,name=\"sam\", department=\"IT\")\n",
        "print(emp1)\n",
        "#here salary=None and is_active=True"
      ],
      "metadata": {
        "colab": {
          "base_uri": "https://localhost:8080/"
        },
        "id": "ECBBGZyS1TJF",
        "outputId": "66b8f084-7dc4-4851-eb25-9cf2ce4ded8f"
      },
      "execution_count": 14,
      "outputs": [
        {
          "output_type": "stream",
          "name": "stdout",
          "text": [
            "id=1 name='sam' department='IT' salary=None is_active=True\n"
          ]
        }
      ]
    },
    {
      "cell_type": "code",
      "source": [
        "emp2=Employee(id=1,name=\"sam\", department=\"IT\", salary=60000, is_active=\"False\")\n",
        "print(emp2)"
      ],
      "metadata": {
        "colab": {
          "base_uri": "https://localhost:8080/"
        },
        "id": "VmV3hVjS2q4w",
        "outputId": "036c2b38-0002-46bc-a0a2-df037630907b"
      },
      "execution_count": 15,
      "outputs": [
        {
          "output_type": "stream",
          "name": "stdout",
          "text": [
            "id=1 name='sam' department='IT' salary=60000.0 is_active=False\n"
          ]
        }
      ]
    },
    {
      "cell_type": "markdown",
      "source": [
        "Pydantic validates types even for optional fields when valus are provided"
      ],
      "metadata": {
        "id": "PYNe66Ww3R5Y"
      }
    },
    {
      "cell_type": "markdown",
      "source": [
        "3. Model with List as field"
      ],
      "metadata": {
        "id": "U1_VDeyc3f4s"
      }
    },
    {
      "cell_type": "code",
      "source": [
        "from pydantic import BaseModel\n",
        "from typing import List\n",
        "\n",
        "class Classroom(BaseModel):\n",
        "  room_number:str\n",
        "  students:List[str] #List of strings\n",
        "  capacity:int"
      ],
      "metadata": {
        "id": "QqABZ7zL3QAa"
      },
      "execution_count": 16,
      "outputs": []
    },
    {
      "cell_type": "code",
      "source": [
        "classroom=Classroom(\n",
        "    room_number=\"B202\",\n",
        "    students=[\"Alice\",\"Bob\",\"Same\"],\n",
        "    capacity=20\n",
        ")\n",
        "print(classroom)"
      ],
      "metadata": {
        "colab": {
          "base_uri": "https://localhost:8080/"
        },
        "id": "f1vH_goP33Yx",
        "outputId": "f2eb73f7-1f2e-4901-855c-eab089a4301a"
      },
      "execution_count": 17,
      "outputs": [
        {
          "output_type": "stream",
          "name": "stdout",
          "text": [
            "room_number='B202' students=['Alice', 'Bob', 'Same'] capacity=20\n"
          ]
        }
      ]
    },
    {
      "cell_type": "code",
      "source": [
        "classroom=Classroom(\n",
        "    room_number=\"B202\",\n",
        "    students={\"Alice\",\"Bob\",\"Same\"}, #here typecasting is happening\n",
        "    #but if u give in diff format u will get validation error\n",
        "    capacity=20\n",
        ")\n",
        "print(classroom)"
      ],
      "metadata": {
        "colab": {
          "base_uri": "https://localhost:8080/"
        },
        "id": "Z_oSBCgl4KbN",
        "outputId": "1d716e9f-5f94-43f7-d4c9-c533b3f8b4dd"
      },
      "execution_count": 18,
      "outputs": [
        {
          "output_type": "stream",
          "name": "stdout",
          "text": [
            "room_number='B202' students=['Same', 'Alice', 'Bob'] capacity=20\n"
          ]
        }
      ]
    },
    {
      "cell_type": "markdown",
      "source": [
        "4.Pydantic Fields:Customization and Constraints"
      ],
      "metadata": {
        "id": "Xzos_qQi6fwJ"
      }
    },
    {
      "cell_type": "markdown",
      "source": [
        "Field function - in pydantic allows you to specify validation rules, default values, aliases and more"
      ],
      "metadata": {
        "id": "LjHG206w6j5f"
      }
    },
    {
      "cell_type": "code",
      "source": [
        "from pydantic import BaseModel,Field\n",
        "class Item(BaseModel):\n",
        "  #it will validate name is str but also ensure min and max len\n",
        "  name:str=Field(min_length=2,max_length=50)\n",
        "  price:float=Field(gt=0,le=1000) #greater than, less than or equal to\n",
        "  quantity:int=Field(ge=0)\n"
      ],
      "metadata": {
        "id": "wU45y27b4Syw"
      },
      "execution_count": 21,
      "outputs": []
    },
    {
      "cell_type": "code",
      "source": [
        "  item=Item(name=\"Book\",price=1,quantity=10)\n",
        "  print(item)"
      ],
      "metadata": {
        "colab": {
          "base_uri": "https://localhost:8080/"
        },
        "id": "PixJOYo57fV-",
        "outputId": "8e178b79-964a-4296-f57c-1d1e88842192"
      },
      "execution_count": 22,
      "outputs": [
        {
          "output_type": "stream",
          "name": "stdout",
          "text": [
            "name='Book' price=1.0 quantity=10\n"
          ]
        }
      ]
    },
    {
      "cell_type": "code",
      "source": [
        "  item1=Item(name=\"Book\",price=-1,quantity=10)\n",
        "  print(item1)\n",
        "  #you will get ValidationError"
      ],
      "metadata": {
        "colab": {
          "base_uri": "https://localhost:8080/",
          "height": 399
        },
        "id": "TZaWzU_P7p2G",
        "outputId": "d18b2d04-8b26-4157-ec2d-1787f5375bac"
      },
      "execution_count": 23,
      "outputs": [
        {
          "output_type": "error",
          "ename": "ValidationError",
          "evalue": "1 validation error for Item\nprice\n  Input should be greater than 0 [type=greater_than, input_value=-1, input_type=int]\n    For further information visit https://errors.pydantic.dev/2.11/v/greater_than",
          "traceback": [
            "\u001b[0;31m---------------------------------------------------------------------------\u001b[0m",
            "\u001b[0;31mValidationError\u001b[0m                           Traceback (most recent call last)",
            "\u001b[0;32m<ipython-input-23-64b503e214da>\u001b[0m in \u001b[0;36m<cell line: 0>\u001b[0;34m()\u001b[0m\n\u001b[0;32m----> 1\u001b[0;31m \u001b[0mitem1\u001b[0m\u001b[0;34m=\u001b[0m\u001b[0mItem\u001b[0m\u001b[0;34m(\u001b[0m\u001b[0mname\u001b[0m\u001b[0;34m=\u001b[0m\u001b[0;34m\"Book\"\u001b[0m\u001b[0;34m,\u001b[0m\u001b[0mprice\u001b[0m\u001b[0;34m=\u001b[0m\u001b[0;34m-\u001b[0m\u001b[0;36m1\u001b[0m\u001b[0;34m,\u001b[0m\u001b[0mquantity\u001b[0m\u001b[0;34m=\u001b[0m\u001b[0;36m10\u001b[0m\u001b[0;34m)\u001b[0m\u001b[0;34m\u001b[0m\u001b[0;34m\u001b[0m\u001b[0m\n\u001b[0m\u001b[1;32m      2\u001b[0m \u001b[0mprint\u001b[0m\u001b[0;34m(\u001b[0m\u001b[0mitem1\u001b[0m\u001b[0;34m)\u001b[0m\u001b[0;34m\u001b[0m\u001b[0;34m\u001b[0m\u001b[0m\n",
            "\u001b[0;32m/usr/local/lib/python3.11/dist-packages/pydantic/main.py\u001b[0m in \u001b[0;36m__init__\u001b[0;34m(self, **data)\u001b[0m\n\u001b[1;32m    251\u001b[0m         \u001b[0;31m# `__tracebackhide__` tells pytest and some other tools to omit this function from tracebacks\u001b[0m\u001b[0;34m\u001b[0m\u001b[0;34m\u001b[0m\u001b[0m\n\u001b[1;32m    252\u001b[0m         \u001b[0m__tracebackhide__\u001b[0m \u001b[0;34m=\u001b[0m \u001b[0;32mTrue\u001b[0m\u001b[0;34m\u001b[0m\u001b[0;34m\u001b[0m\u001b[0m\n\u001b[0;32m--> 253\u001b[0;31m         \u001b[0mvalidated_self\u001b[0m \u001b[0;34m=\u001b[0m \u001b[0mself\u001b[0m\u001b[0;34m.\u001b[0m\u001b[0m__pydantic_validator__\u001b[0m\u001b[0;34m.\u001b[0m\u001b[0mvalidate_python\u001b[0m\u001b[0;34m(\u001b[0m\u001b[0mdata\u001b[0m\u001b[0;34m,\u001b[0m \u001b[0mself_instance\u001b[0m\u001b[0;34m=\u001b[0m\u001b[0mself\u001b[0m\u001b[0;34m)\u001b[0m\u001b[0;34m\u001b[0m\u001b[0;34m\u001b[0m\u001b[0m\n\u001b[0m\u001b[1;32m    254\u001b[0m         \u001b[0;32mif\u001b[0m \u001b[0mself\u001b[0m \u001b[0;32mis\u001b[0m \u001b[0;32mnot\u001b[0m \u001b[0mvalidated_self\u001b[0m\u001b[0;34m:\u001b[0m\u001b[0;34m\u001b[0m\u001b[0;34m\u001b[0m\u001b[0m\n\u001b[1;32m    255\u001b[0m             warnings.warn(\n",
            "\u001b[0;31mValidationError\u001b[0m: 1 validation error for Item\nprice\n  Input should be greater than 0 [type=greater_than, input_value=-1, input_type=int]\n    For further information visit https://errors.pydantic.dev/2.11/v/greater_than"
          ]
        }
      ]
    },
    {
      "cell_type": "markdown",
      "source": [
        "In Field function we can give more parameters like description\n",
        "eg- age:int=Field(gt=18,description=\"User age needs to be greater than or equal to 18)\""
      ],
      "metadata": {
        "id": "UkC0JKsq8Tr4"
      }
    },
    {
      "cell_type": "code",
      "source": [],
      "metadata": {
        "id": "_Mm-FqvU7tPa"
      },
      "execution_count": null,
      "outputs": []
    }
  ]
}